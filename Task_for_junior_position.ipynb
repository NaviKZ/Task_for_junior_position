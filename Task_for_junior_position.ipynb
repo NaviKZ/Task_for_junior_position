{
 "cells": [
  {
   "cell_type": "markdown",
   "metadata": {},
   "source": [
    "**Описание проекта**\n",
    "1. Необходимо получить данные с сайта https://fakestoreapi.com/ с помощью Python, сформировать csv файл с описанием 10 любых продуктов. (преобразование из формата json в csv должно происходить внутри кода).\n",
    "2. С помощью Python открыть csv файл из задания 1 и разделить товары на категории в зависимости от цены: cheap - нижние 30% при сортировке по стоимости; middle - 40-70% при сортировке по стоимости; expensive - верхние 30% при сортировке по стоимости. Разделить полученные данные на 3 отдельных файла excel в соответствии с полученной категорией. "
   ]
  },
  {
   "cell_type": "code",
   "execution_count": 32,
   "metadata": {},
   "outputs": [],
   "source": [
    "# Импорт необходимых библиотек\n",
    "import requests\n",
    "import pandas as pd"
   ]
  },
  {
   "cell_type": "markdown",
   "metadata": {},
   "source": [
    "**1. Выгрузим данные с сайта https://fakestoreapi.com/ с помощью Python, сформируем csv файл с описанием 10 любых продуктов**"
   ]
  },
  {
   "cell_type": "code",
   "execution_count": 33,
   "metadata": {},
   "outputs": [
    {
     "name": "stdout",
     "output_type": "stream",
     "text": [
      "<class 'pandas.core.frame.DataFrame'>\n",
      "RangeIndex: 20 entries, 0 to 19\n",
      "Data columns (total 7 columns):\n",
      " #   Column       Non-Null Count  Dtype  \n",
      "---  ------       --------------  -----  \n",
      " 0   id           20 non-null     int64  \n",
      " 1   title        20 non-null     object \n",
      " 2   price        20 non-null     float64\n",
      " 3   description  20 non-null     object \n",
      " 4   category     20 non-null     object \n",
      " 5   image        20 non-null     object \n",
      " 6   rating       20 non-null     object \n",
      "dtypes: float64(1), int64(1), object(5)\n",
      "memory usage: 1.2+ KB\n"
     ]
    }
   ],
   "source": [
    "# Получение данных с сайта\n",
    "response = requests.get('https://fakestoreapi.com/products')\n",
    "data = response.json()\n",
    "\n",
    "# Преобразование данных в DataFrame\n",
    "df = pd.DataFrame(data)\n",
    "\n",
    "# Вывод общей информации о датафрейме для проверки корректности данных\n",
    "df.info()"
   ]
  },
  {
   "cell_type": "markdown",
   "metadata": {},
   "source": [
    "***Вывод:*** Тип данных соответствует содержимому, пропущенных данных не обнаружено. Можно продолжить анализ данных."
   ]
  },
  {
   "cell_type": "code",
   "execution_count": 34,
   "metadata": {},
   "outputs": [
    {
     "name": "stdout",
     "output_type": "stream",
     "text": [
      "Данные сохранены в файл products.csv.\n"
     ]
    }
   ],
   "source": [
    "# Выбор 10 случайных продуктов\n",
    "df_sample = df.sample(n=10, random_state=1)\n",
    "\n",
    "# Запись DataFrame в CSV файл\n",
    "output_path = r'products.csv'\n",
    "df_sample.to_csv(output_path, index=False)\n",
    "\n",
    "print(f\"Данные сохранены в файл {output_path}.\")"
   ]
  },
  {
   "cell_type": "code",
   "execution_count": 35,
   "metadata": {},
   "outputs": [
    {
     "name": "stdout",
     "output_type": "stream",
     "text": [
      "Содержимое файла:\n",
      "   id                                              title   price  \\\n",
      "0   4                               Mens Casual Slim Fit   15.99   \n",
      "1  17  Rain Jacket Women Windbreaker Striped Climbing...   39.99   \n",
      "2   7                         White Gold Plated Princess    9.99   \n",
      "3  11  Silicon Power 256GB SSD 3D NAND A55 SLC Cache ...  109.00   \n",
      "4   3                                 Mens Cotton Jacket   55.99   \n",
      "5  15  BIYLACLESEN Women's 3-in-1 Snowboard Jacket Wi...   56.99   \n",
      "6   5  John Hardy Women's Legends Naga Gold & Silver ...  695.00   \n",
      "7  18        MBJ Women's Solid Short Sleeve Boat Neck V     9.85   \n",
      "8   8  Pierced Owl Rose Gold Plated Stainless Steel D...   10.99   \n",
      "9   2             Mens Casual Premium Slim Fit T-Shirts    22.30   \n",
      "\n",
      "                                         description          category  \\\n",
      "0  The color could be slightly different between ...    men's clothing   \n",
      "1  Lightweight perfet for trip or casual wear---L...  women's clothing   \n",
      "2  Classic Created Wedding Engagement Solitaire D...          jewelery   \n",
      "3  3D NAND flash are applied to deliver high tran...       electronics   \n",
      "4  great outerwear jackets for Spring/Autumn/Wint...    men's clothing   \n",
      "5  Note:The Jackets is US standard size, Please c...  women's clothing   \n",
      "6  From our Legends Collection, the Naga was insp...          jewelery   \n",
      "7  95% RAYON 5% SPANDEX, Made in USA or Imported,...  women's clothing   \n",
      "8  Rose Gold Plated Double Flared Tunnel Plug Ear...          jewelery   \n",
      "9  Slim-fitting style, contrast raglan long sleev...    men's clothing   \n",
      "\n",
      "                                               image  \\\n",
      "0  https://fakestoreapi.com/img/71YXzeOuslL._AC_U...   \n",
      "1  https://fakestoreapi.com/img/71HblAHs5xL._AC_U...   \n",
      "2  https://fakestoreapi.com/img/71YAIFU48IL._AC_U...   \n",
      "3  https://fakestoreapi.com/img/71kWymZ+c+L._AC_S...   \n",
      "4  https://fakestoreapi.com/img/71li-ujtlUL._AC_U...   \n",
      "5  https://fakestoreapi.com/img/51Y5NI-I5jL._AC_U...   \n",
      "6  https://fakestoreapi.com/img/71pWzhdJNwL._AC_U...   \n",
      "7  https://fakestoreapi.com/img/71z3kpMAYsL._AC_U...   \n",
      "8  https://fakestoreapi.com/img/51UDEzMJVpL._AC_U...   \n",
      "9  https://fakestoreapi.com/img/71-3HjGNDUL._AC_S...   \n",
      "\n",
      "                        rating  \n",
      "0  {'rate': 2.1, 'count': 430}  \n",
      "1  {'rate': 3.8, 'count': 679}  \n",
      "2    {'rate': 3, 'count': 400}  \n",
      "3  {'rate': 4.8, 'count': 319}  \n",
      "4  {'rate': 4.7, 'count': 500}  \n",
      "5  {'rate': 2.6, 'count': 235}  \n",
      "6  {'rate': 4.6, 'count': 400}  \n",
      "7  {'rate': 4.7, 'count': 130}  \n",
      "8  {'rate': 1.9, 'count': 100}  \n",
      "9  {'rate': 4.1, 'count': 259}  \n"
     ]
    }
   ],
   "source": [
    "# Чтение CSV файла и отображение его содержимого\n",
    "df_read = pd.read_csv(output_path)\n",
    "print(\"Содержимое файла:\")\n",
    "print(df_read)"
   ]
  },
  {
   "cell_type": "markdown",
   "metadata": {},
   "source": [
    "**Вывод:** Были получены данные с сайта и выполнена их проверка. Данные были отсортированы в соответствии с заданием и сохранены в файл под названием 'products.csv' в формате CSV."
   ]
  },
  {
   "cell_type": "markdown",
   "metadata": {},
   "source": [
    "**2. С помощью Python откроем csv файл 'products.csv' и разделим товары на категории в зависимости от цены**"
   ]
  },
  {
   "cell_type": "code",
   "execution_count": 36,
   "metadata": {},
   "outputs": [
    {
     "name": "stdout",
     "output_type": "stream",
     "text": [
      "Данные разделены на категории и сохранены в файлы Excel.\n"
     ]
    }
   ],
   "source": [
    "# Чтение данных из CSV файла\n",
    "df = pd.read_csv(output_path)\n",
    "\n",
    "# Сортировка данных по цене\n",
    "df_sorted = df.sort_values(by='price')\n",
    "\n",
    "# Определение границ для категорий\n",
    "n = len(df_sorted)\n",
    "cheap_boundary = int(n * 0.3)\n",
    "middle_boundary_start = int(n * 0.3)\n",
    "middle_boundary_end = int(n * 0.7)\n",
    "\n",
    "# Разделение данных на категории\n",
    "cheap = df_sorted.iloc[:cheap_boundary]\n",
    "middle = df_sorted.iloc[middle_boundary_start:middle_boundary_end]\n",
    "expensive = df_sorted.iloc[middle_boundary_end:]\n",
    "\n",
    "# Запись данных в отдельные файлы Excel\n",
    "cheap.to_excel('cheap_products.xlsx', index=False)\n",
    "middle.to_excel('middle_products.xlsx', index=False)\n",
    "expensive.to_excel('expensive_products.xlsx', index=False)\n",
    "\n",
    "print(\"Данные разделены на категории и сохранены в файлы Excel.\")"
   ]
  },
  {
   "cell_type": "code",
   "execution_count": 37,
   "metadata": {},
   "outputs": [
    {
     "name": "stdout",
     "output_type": "stream",
     "text": [
      "\n",
      "Cheap Products:\n",
      "   id                                              title  price  \\\n",
      "0  18        MBJ Women's Solid Short Sleeve Boat Neck V    9.85   \n",
      "1   7                         White Gold Plated Princess   9.99   \n",
      "2   8  Pierced Owl Rose Gold Plated Stainless Steel D...  10.99   \n",
      "\n",
      "                                         description          category  \\\n",
      "0  95% RAYON 5% SPANDEX, Made in USA or Imported,...  women's clothing   \n",
      "1  Classic Created Wedding Engagement Solitaire D...          jewelery   \n",
      "2  Rose Gold Plated Double Flared Tunnel Plug Ear...          jewelery   \n",
      "\n",
      "                                               image  \\\n",
      "0  https://fakestoreapi.com/img/71z3kpMAYsL._AC_U...   \n",
      "1  https://fakestoreapi.com/img/71YAIFU48IL._AC_U...   \n",
      "2  https://fakestoreapi.com/img/51UDEzMJVpL._AC_U...   \n",
      "\n",
      "                        rating  \n",
      "0  {'rate': 4.7, 'count': 130}  \n",
      "1    {'rate': 3, 'count': 400}  \n",
      "2  {'rate': 1.9, 'count': 100}  \n"
     ]
    }
   ],
   "source": [
    "# Чтение и вывод содержимого файлов Excel на экран\n",
    "cheap_read = pd.read_excel('cheap_products.xlsx')\n",
    "\n",
    "print(\"\\nCheap Products:\")\n",
    "print(cheap_read)"
   ]
  },
  {
   "cell_type": "code",
   "execution_count": 38,
   "metadata": {},
   "outputs": [
    {
     "name": "stdout",
     "output_type": "stream",
     "text": [
      "Содержимое файла 'middle_products.xlsx':\n",
      "   id                                              title  price  \\\n",
      "0   4                               Mens Casual Slim Fit  15.99   \n",
      "1   2             Mens Casual Premium Slim Fit T-Shirts   22.30   \n",
      "2  17  Rain Jacket Women Windbreaker Striped Climbing...  39.99   \n",
      "3   3                                 Mens Cotton Jacket  55.99   \n",
      "\n",
      "                                         description          category  \\\n",
      "0  The color could be slightly different between ...    men's clothing   \n",
      "1  Slim-fitting style, contrast raglan long sleev...    men's clothing   \n",
      "2  Lightweight perfet for trip or casual wear---L...  women's clothing   \n",
      "3  great outerwear jackets for Spring/Autumn/Wint...    men's clothing   \n",
      "\n",
      "                                               image  \\\n",
      "0  https://fakestoreapi.com/img/71YXzeOuslL._AC_U...   \n",
      "1  https://fakestoreapi.com/img/71-3HjGNDUL._AC_S...   \n",
      "2  https://fakestoreapi.com/img/71HblAHs5xL._AC_U...   \n",
      "3  https://fakestoreapi.com/img/71li-ujtlUL._AC_U...   \n",
      "\n",
      "                        rating  \n",
      "0  {'rate': 2.1, 'count': 430}  \n",
      "1  {'rate': 4.1, 'count': 259}  \n",
      "2  {'rate': 3.8, 'count': 679}  \n",
      "3  {'rate': 4.7, 'count': 500}  \n"
     ]
    }
   ],
   "source": [
    "middle_read = pd.read_excel('middle_products.xlsx')\n",
    "\n",
    "print(\"Содержимое файла 'middle_products.xlsx':\")\n",
    "print(middle_read)"
   ]
  },
  {
   "cell_type": "code",
   "execution_count": 39,
   "metadata": {},
   "outputs": [
    {
     "name": "stdout",
     "output_type": "stream",
     "text": [
      "Содержимое файла 'expensive_products.xlsx':\n",
      "   id                                              title   price  \\\n",
      "0  15  BIYLACLESEN Women's 3-in-1 Snowboard Jacket Wi...   56.99   \n",
      "1  11  Silicon Power 256GB SSD 3D NAND A55 SLC Cache ...  109.00   \n",
      "2   5  John Hardy Women's Legends Naga Gold & Silver ...  695.00   \n",
      "\n",
      "                                         description          category  \\\n",
      "0  Note:The Jackets is US standard size, Please c...  women's clothing   \n",
      "1  3D NAND flash are applied to deliver high tran...       electronics   \n",
      "2  From our Legends Collection, the Naga was insp...          jewelery   \n",
      "\n",
      "                                               image  \\\n",
      "0  https://fakestoreapi.com/img/51Y5NI-I5jL._AC_U...   \n",
      "1  https://fakestoreapi.com/img/71kWymZ+c+L._AC_S...   \n",
      "2  https://fakestoreapi.com/img/71pWzhdJNwL._AC_U...   \n",
      "\n",
      "                        rating  \n",
      "0  {'rate': 2.6, 'count': 235}  \n",
      "1  {'rate': 4.8, 'count': 319}  \n",
      "2  {'rate': 4.6, 'count': 400}  \n"
     ]
    }
   ],
   "source": [
    "expensive_read = pd.read_excel('expensive_products.xlsx')\n",
    "\n",
    "print(\"Содержимое файла 'expensive_products.xlsx':\")\n",
    "print(expensive_read)"
   ]
  },
  {
   "cell_type": "markdown",
   "metadata": {},
   "source": [
    "**Вывод:** Все товары разделили на категории в зависимости от цены и сохранили каждую категорию в отдельный Excel-файл."
   ]
  },
  {
   "cell_type": "markdown",
   "metadata": {},
   "source": []
  }
 ],
 "metadata": {
  "kernelspec": {
   "display_name": "base",
   "language": "python",
   "name": "python3"
  },
  "language_info": {
   "codemirror_mode": {
    "name": "ipython",
    "version": 3
   },
   "file_extension": ".py",
   "mimetype": "text/x-python",
   "name": "python",
   "nbconvert_exporter": "python",
   "pygments_lexer": "ipython3",
   "version": "3.9.13"
  }
 },
 "nbformat": 4,
 "nbformat_minor": 2
}
