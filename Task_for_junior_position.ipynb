{
 "cells": [
  {
   "cell_type": "markdown",
   "metadata": {},
   "source": [
    "**Задание 1**"
   ]
  },
  {
   "cell_type": "markdown",
   "metadata": {},
   "source": [
    "**Описание проекта**\n",
    "1. Необходимо получить данные с сайта https://fakestoreapi.com/ с помощью Python, сформировать csv файл с описанием 10 любых продуктов. (преобразование из формата json в csv должно происходить внутри кода).\n",
    "2. С помощью Python открыть csv файл из задания 1 и разделить товары на категории в зависимости от цены: cheap - нижние 30% при сортировке по стоимости; middle - 40-70% при сортировке по стоимости; expensive - верхние 30% при сортировке по стоимости. Разделить полученные данные на 3 отдельных файла excel в соответствии с полученной категорией. "
   ]
  },
  {
   "cell_type": "code",
   "execution_count": 32,
   "metadata": {},
   "outputs": [],
   "source": [
    "# Импорт необходимых библиотек\n",
    "import requests\n",
    "import pandas as pd"
   ]
  },
  {
   "cell_type": "markdown",
   "metadata": {},
   "source": [
    "_**1. Выгрузим данные с сайта https://fakestoreapi.com/ с помощью Python, сформируем csv файл с описанием 10 любых продуктов**_"
   ]
  },
  {
   "cell_type": "code",
   "execution_count": 33,
   "metadata": {},
   "outputs": [
    {
     "name": "stdout",
     "output_type": "stream",
     "text": [
      "<class 'pandas.core.frame.DataFrame'>\n",
      "RangeIndex: 20 entries, 0 to 19\n",
      "Data columns (total 7 columns):\n",
      " #   Column       Non-Null Count  Dtype  \n",
      "---  ------       --------------  -----  \n",
      " 0   id           20 non-null     int64  \n",
      " 1   title        20 non-null     object \n",
      " 2   price        20 non-null     float64\n",
      " 3   description  20 non-null     object \n",
      " 4   category     20 non-null     object \n",
      " 5   image        20 non-null     object \n",
      " 6   rating       20 non-null     object \n",
      "dtypes: float64(1), int64(1), object(5)\n",
      "memory usage: 1.2+ KB\n"
     ]
    }
   ],
   "source": [
    "# Получение данных с сайта\n",
    "response = requests.get('https://fakestoreapi.com/products')\n",
    "data = response.json()\n",
    "\n",
    "# Преобразование данных в DataFrame\n",
    "df = pd.DataFrame(data)\n",
    "\n",
    "# Вывод общей информации о датафрейме для проверки корректности данных\n",
    "df.info()"
   ]
  },
  {
   "cell_type": "markdown",
   "metadata": {},
   "source": [
    "***Вывод:*** Тип данных соответствует содержимому, пропущенных данных не обнаружено. Можно продолжить анализ данных."
   ]
  },
  {
   "cell_type": "code",
   "execution_count": 34,
   "metadata": {},
   "outputs": [
    {
     "name": "stdout",
     "output_type": "stream",
     "text": [
      "Данные сохранены в файл products.csv.\n"
     ]
    }
   ],
   "source": [
    "# Выбор 10 случайных продуктов\n",
    "df_sample = df.sample(n=10, random_state=1)\n",
    "\n",
    "# Запись DataFrame в CSV файл\n",
    "output_path = r'products.csv'\n",
    "df_sample.to_csv(output_path, index=False)\n",
    "\n",
    "print(f\"Данные сохранены в файл {output_path}.\")"
   ]
  },
  {
   "cell_type": "code",
   "execution_count": 35,
   "metadata": {},
   "outputs": [
    {
     "name": "stdout",
     "output_type": "stream",
     "text": [
      "Содержимое файла:\n",
      "   id                                              title   price  \\\n",
      "0   4                               Mens Casual Slim Fit   15.99   \n",
      "1  17  Rain Jacket Women Windbreaker Striped Climbing...   39.99   \n",
      "2   7                         White Gold Plated Princess    9.99   \n",
      "3  11  Silicon Power 256GB SSD 3D NAND A55 SLC Cache ...  109.00   \n",
      "4   3                                 Mens Cotton Jacket   55.99   \n",
      "5  15  BIYLACLESEN Women's 3-in-1 Snowboard Jacket Wi...   56.99   \n",
      "6   5  John Hardy Women's Legends Naga Gold & Silver ...  695.00   \n",
      "7  18        MBJ Women's Solid Short Sleeve Boat Neck V     9.85   \n",
      "8   8  Pierced Owl Rose Gold Plated Stainless Steel D...   10.99   \n",
      "9   2             Mens Casual Premium Slim Fit T-Shirts    22.30   \n",
      "\n",
      "                                         description          category  \\\n",
      "0  The color could be slightly different between ...    men's clothing   \n",
      "1  Lightweight perfet for trip or casual wear---L...  women's clothing   \n",
      "2  Classic Created Wedding Engagement Solitaire D...          jewelery   \n",
      "3  3D NAND flash are applied to deliver high tran...       electronics   \n",
      "4  great outerwear jackets for Spring/Autumn/Wint...    men's clothing   \n",
      "5  Note:The Jackets is US standard size, Please c...  women's clothing   \n",
      "6  From our Legends Collection, the Naga was insp...          jewelery   \n",
      "7  95% RAYON 5% SPANDEX, Made in USA or Imported,...  women's clothing   \n",
      "8  Rose Gold Plated Double Flared Tunnel Plug Ear...          jewelery   \n",
      "9  Slim-fitting style, contrast raglan long sleev...    men's clothing   \n",
      "\n",
      "                                               image  \\\n",
      "0  https://fakestoreapi.com/img/71YXzeOuslL._AC_U...   \n",
      "1  https://fakestoreapi.com/img/71HblAHs5xL._AC_U...   \n",
      "2  https://fakestoreapi.com/img/71YAIFU48IL._AC_U...   \n",
      "3  https://fakestoreapi.com/img/71kWymZ+c+L._AC_S...   \n",
      "4  https://fakestoreapi.com/img/71li-ujtlUL._AC_U...   \n",
      "5  https://fakestoreapi.com/img/51Y5NI-I5jL._AC_U...   \n",
      "6  https://fakestoreapi.com/img/71pWzhdJNwL._AC_U...   \n",
      "7  https://fakestoreapi.com/img/71z3kpMAYsL._AC_U...   \n",
      "8  https://fakestoreapi.com/img/51UDEzMJVpL._AC_U...   \n",
      "9  https://fakestoreapi.com/img/71-3HjGNDUL._AC_S...   \n",
      "\n",
      "                        rating  \n",
      "0  {'rate': 2.1, 'count': 430}  \n",
      "1  {'rate': 3.8, 'count': 679}  \n",
      "2    {'rate': 3, 'count': 400}  \n",
      "3  {'rate': 4.8, 'count': 319}  \n",
      "4  {'rate': 4.7, 'count': 500}  \n",
      "5  {'rate': 2.6, 'count': 235}  \n",
      "6  {'rate': 4.6, 'count': 400}  \n",
      "7  {'rate': 4.7, 'count': 130}  \n",
      "8  {'rate': 1.9, 'count': 100}  \n",
      "9  {'rate': 4.1, 'count': 259}  \n"
     ]
    }
   ],
   "source": [
    "# Чтение CSV файла и отображение его содержимого\n",
    "df_read = pd.read_csv(output_path)\n",
    "print(\"Содержимое файла:\")\n",
    "print(df_read)"
   ]
  },
  {
   "cell_type": "markdown",
   "metadata": {},
   "source": [
    "**Вывод:** Были получены данные с сайта и выполнена их проверка. Данные были отсортированы в соответствии с заданием и сохранены в файл под названием 'products.csv' в формате CSV."
   ]
  },
  {
   "cell_type": "markdown",
   "metadata": {},
   "source": [
    "--------------------------"
   ]
  },
  {
   "cell_type": "markdown",
   "metadata": {},
   "source": [
    "**Задание 2**"
   ]
  },
  {
   "cell_type": "markdown",
   "metadata": {},
   "source": [
    "_**Описание:**_ \n",
    "\n",
    "С помощью Python открыть csv файл из задания 1 и разделить товары на категории в зависимости от цены: cheap - нижние 30% при сортировке по стоимости; middle - 40-70% при сортировке по стоимости; expensive - верхние 30% при сортировке по стоимости. Разделить полученные данные на 3 отдельных файла excel в соответствии с полученной категорией. "
   ]
  },
  {
   "cell_type": "markdown",
   "metadata": {},
   "source": [
    "_**1. С помощью Python откроем csv файл 'products.csv' и разделим товары на категории в зависимости от цены**_"
   ]
  },
  {
   "cell_type": "code",
   "execution_count": 36,
   "metadata": {},
   "outputs": [
    {
     "name": "stdout",
     "output_type": "stream",
     "text": [
      "Данные разделены на категории и сохранены в файлы Excel.\n"
     ]
    }
   ],
   "source": [
    "# Чтение данных из CSV файла\n",
    "df = pd.read_csv(output_path)\n",
    "\n",
    "# Сортировка данных по цене\n",
    "df_sorted = df.sort_values(by='price')\n",
    "\n",
    "# Определеним границы для категорий\n",
    "n = len(df_sorted)\n",
    "cheap_boundary = int(n * 0.3)\n",
    "middle_boundary_start = int(n * 0.3)\n",
    "middle_boundary_end = int(n * 0.7)\n",
    "\n",
    "# Разделим данные на категории\n",
    "cheap = df_sorted.iloc[:cheap_boundary]\n",
    "middle = df_sorted.iloc[middle_boundary_start:middle_boundary_end]\n",
    "expensive = df_sorted.iloc[middle_boundary_end:]\n",
    "\n",
    "# Запись данных в отдельные файлы Excel\n",
    "cheap.to_excel('cheap_products.xlsx', index=False)\n",
    "middle.to_excel('middle_products.xlsx', index=False)\n",
    "expensive.to_excel('expensive_products.xlsx', index=False)\n",
    "\n",
    "print(\"Данные разделены на категории и сохранены в файлы Excel.\")"
   ]
  },
  {
   "cell_type": "code",
   "execution_count": 30,
   "metadata": {},
   "outputs": [
    {
     "name": "stdout",
     "output_type": "stream",
     "text": [
      "Содержимое файла 'cheap_products':\n"
     ]
    },
    {
     "data": {
      "text/html": [
       "<div>\n",
       "<style scoped>\n",
       "    .dataframe tbody tr th:only-of-type {\n",
       "        vertical-align: middle;\n",
       "    }\n",
       "\n",
       "    .dataframe tbody tr th {\n",
       "        vertical-align: top;\n",
       "    }\n",
       "\n",
       "    .dataframe thead th {\n",
       "        text-align: right;\n",
       "    }\n",
       "</style>\n",
       "<table border=\"1\" class=\"dataframe\">\n",
       "  <thead>\n",
       "    <tr style=\"text-align: right;\">\n",
       "      <th></th>\n",
       "      <th>id</th>\n",
       "      <th>title</th>\n",
       "      <th>price</th>\n",
       "      <th>description</th>\n",
       "      <th>category</th>\n",
       "      <th>image</th>\n",
       "      <th>rating</th>\n",
       "    </tr>\n",
       "  </thead>\n",
       "  <tbody>\n",
       "    <tr>\n",
       "      <th>0</th>\n",
       "      <td>18</td>\n",
       "      <td>MBJ Women's Solid Short Sleeve Boat Neck V</td>\n",
       "      <td>9.85</td>\n",
       "      <td>95% RAYON 5% SPANDEX, Made in USA or Imported,...</td>\n",
       "      <td>women's clothing</td>\n",
       "      <td>https://fakestoreapi.com/img/71z3kpMAYsL._AC_U...</td>\n",
       "      <td>{'rate': 4.7, 'count': 130}</td>\n",
       "    </tr>\n",
       "    <tr>\n",
       "      <th>1</th>\n",
       "      <td>7</td>\n",
       "      <td>White Gold Plated Princess</td>\n",
       "      <td>9.99</td>\n",
       "      <td>Classic Created Wedding Engagement Solitaire D...</td>\n",
       "      <td>jewelery</td>\n",
       "      <td>https://fakestoreapi.com/img/71YAIFU48IL._AC_U...</td>\n",
       "      <td>{'rate': 3, 'count': 400}</td>\n",
       "    </tr>\n",
       "    <tr>\n",
       "      <th>2</th>\n",
       "      <td>8</td>\n",
       "      <td>Pierced Owl Rose Gold Plated Stainless Steel D...</td>\n",
       "      <td>10.99</td>\n",
       "      <td>Rose Gold Plated Double Flared Tunnel Plug Ear...</td>\n",
       "      <td>jewelery</td>\n",
       "      <td>https://fakestoreapi.com/img/51UDEzMJVpL._AC_U...</td>\n",
       "      <td>{'rate': 1.9, 'count': 100}</td>\n",
       "    </tr>\n",
       "  </tbody>\n",
       "</table>\n",
       "</div>"
      ],
      "text/plain": [
       "   id                                              title  price  \\\n",
       "0  18        MBJ Women's Solid Short Sleeve Boat Neck V    9.85   \n",
       "1   7                         White Gold Plated Princess   9.99   \n",
       "2   8  Pierced Owl Rose Gold Plated Stainless Steel D...  10.99   \n",
       "\n",
       "                                         description          category  \\\n",
       "0  95% RAYON 5% SPANDEX, Made in USA or Imported,...  women's clothing   \n",
       "1  Classic Created Wedding Engagement Solitaire D...          jewelery   \n",
       "2  Rose Gold Plated Double Flared Tunnel Plug Ear...          jewelery   \n",
       "\n",
       "                                               image  \\\n",
       "0  https://fakestoreapi.com/img/71z3kpMAYsL._AC_U...   \n",
       "1  https://fakestoreapi.com/img/71YAIFU48IL._AC_U...   \n",
       "2  https://fakestoreapi.com/img/51UDEzMJVpL._AC_U...   \n",
       "\n",
       "                        rating  \n",
       "0  {'rate': 4.7, 'count': 130}  \n",
       "1    {'rate': 3, 'count': 400}  \n",
       "2  {'rate': 1.9, 'count': 100}  "
      ]
     },
     "metadata": {},
     "output_type": "display_data"
    }
   ],
   "source": [
    "# Чтение и вывод содержимого файлов Excel на экран\n",
    "cheap_read = pd.read_excel('cheap_products.xlsx')\n",
    "\n",
    "print(\"Содержимое файла 'cheap_products':\")\n",
    "display(cheap_read)"
   ]
  },
  {
   "cell_type": "code",
   "execution_count": 31,
   "metadata": {},
   "outputs": [
    {
     "name": "stdout",
     "output_type": "stream",
     "text": [
      "Содержимое файла 'middle_products.xlsx':\n"
     ]
    },
    {
     "data": {
      "text/html": [
       "<div>\n",
       "<style scoped>\n",
       "    .dataframe tbody tr th:only-of-type {\n",
       "        vertical-align: middle;\n",
       "    }\n",
       "\n",
       "    .dataframe tbody tr th {\n",
       "        vertical-align: top;\n",
       "    }\n",
       "\n",
       "    .dataframe thead th {\n",
       "        text-align: right;\n",
       "    }\n",
       "</style>\n",
       "<table border=\"1\" class=\"dataframe\">\n",
       "  <thead>\n",
       "    <tr style=\"text-align: right;\">\n",
       "      <th></th>\n",
       "      <th>id</th>\n",
       "      <th>title</th>\n",
       "      <th>price</th>\n",
       "      <th>description</th>\n",
       "      <th>category</th>\n",
       "      <th>image</th>\n",
       "      <th>rating</th>\n",
       "    </tr>\n",
       "  </thead>\n",
       "  <tbody>\n",
       "    <tr>\n",
       "      <th>0</th>\n",
       "      <td>4</td>\n",
       "      <td>Mens Casual Slim Fit</td>\n",
       "      <td>15.99</td>\n",
       "      <td>The color could be slightly different between ...</td>\n",
       "      <td>men's clothing</td>\n",
       "      <td>https://fakestoreapi.com/img/71YXzeOuslL._AC_U...</td>\n",
       "      <td>{'rate': 2.1, 'count': 430}</td>\n",
       "    </tr>\n",
       "    <tr>\n",
       "      <th>1</th>\n",
       "      <td>2</td>\n",
       "      <td>Mens Casual Premium Slim Fit T-Shirts</td>\n",
       "      <td>22.30</td>\n",
       "      <td>Slim-fitting style, contrast raglan long sleev...</td>\n",
       "      <td>men's clothing</td>\n",
       "      <td>https://fakestoreapi.com/img/71-3HjGNDUL._AC_S...</td>\n",
       "      <td>{'rate': 4.1, 'count': 259}</td>\n",
       "    </tr>\n",
       "    <tr>\n",
       "      <th>2</th>\n",
       "      <td>17</td>\n",
       "      <td>Rain Jacket Women Windbreaker Striped Climbing...</td>\n",
       "      <td>39.99</td>\n",
       "      <td>Lightweight perfet for trip or casual wear---L...</td>\n",
       "      <td>women's clothing</td>\n",
       "      <td>https://fakestoreapi.com/img/71HblAHs5xL._AC_U...</td>\n",
       "      <td>{'rate': 3.8, 'count': 679}</td>\n",
       "    </tr>\n",
       "    <tr>\n",
       "      <th>3</th>\n",
       "      <td>3</td>\n",
       "      <td>Mens Cotton Jacket</td>\n",
       "      <td>55.99</td>\n",
       "      <td>great outerwear jackets for Spring/Autumn/Wint...</td>\n",
       "      <td>men's clothing</td>\n",
       "      <td>https://fakestoreapi.com/img/71li-ujtlUL._AC_U...</td>\n",
       "      <td>{'rate': 4.7, 'count': 500}</td>\n",
       "    </tr>\n",
       "  </tbody>\n",
       "</table>\n",
       "</div>"
      ],
      "text/plain": [
       "   id                                              title  price  \\\n",
       "0   4                               Mens Casual Slim Fit  15.99   \n",
       "1   2             Mens Casual Premium Slim Fit T-Shirts   22.30   \n",
       "2  17  Rain Jacket Women Windbreaker Striped Climbing...  39.99   \n",
       "3   3                                 Mens Cotton Jacket  55.99   \n",
       "\n",
       "                                         description          category  \\\n",
       "0  The color could be slightly different between ...    men's clothing   \n",
       "1  Slim-fitting style, contrast raglan long sleev...    men's clothing   \n",
       "2  Lightweight perfet for trip or casual wear---L...  women's clothing   \n",
       "3  great outerwear jackets for Spring/Autumn/Wint...    men's clothing   \n",
       "\n",
       "                                               image  \\\n",
       "0  https://fakestoreapi.com/img/71YXzeOuslL._AC_U...   \n",
       "1  https://fakestoreapi.com/img/71-3HjGNDUL._AC_S...   \n",
       "2  https://fakestoreapi.com/img/71HblAHs5xL._AC_U...   \n",
       "3  https://fakestoreapi.com/img/71li-ujtlUL._AC_U...   \n",
       "\n",
       "                        rating  \n",
       "0  {'rate': 2.1, 'count': 430}  \n",
       "1  {'rate': 4.1, 'count': 259}  \n",
       "2  {'rate': 3.8, 'count': 679}  \n",
       "3  {'rate': 4.7, 'count': 500}  "
      ]
     },
     "metadata": {},
     "output_type": "display_data"
    }
   ],
   "source": [
    "middle_read = pd.read_excel('middle_products.xlsx')\n",
    "\n",
    "print(\"Содержимое файла 'middle_products.xlsx':\")\n",
    "display(middle_read)"
   ]
  },
  {
   "cell_type": "code",
   "execution_count": 32,
   "metadata": {},
   "outputs": [
    {
     "name": "stdout",
     "output_type": "stream",
     "text": [
      "Содержимое файла 'expensive_products.xlsx':\n"
     ]
    },
    {
     "data": {
      "text/html": [
       "<div>\n",
       "<style scoped>\n",
       "    .dataframe tbody tr th:only-of-type {\n",
       "        vertical-align: middle;\n",
       "    }\n",
       "\n",
       "    .dataframe tbody tr th {\n",
       "        vertical-align: top;\n",
       "    }\n",
       "\n",
       "    .dataframe thead th {\n",
       "        text-align: right;\n",
       "    }\n",
       "</style>\n",
       "<table border=\"1\" class=\"dataframe\">\n",
       "  <thead>\n",
       "    <tr style=\"text-align: right;\">\n",
       "      <th></th>\n",
       "      <th>id</th>\n",
       "      <th>title</th>\n",
       "      <th>price</th>\n",
       "      <th>description</th>\n",
       "      <th>category</th>\n",
       "      <th>image</th>\n",
       "      <th>rating</th>\n",
       "    </tr>\n",
       "  </thead>\n",
       "  <tbody>\n",
       "    <tr>\n",
       "      <th>0</th>\n",
       "      <td>15</td>\n",
       "      <td>BIYLACLESEN Women's 3-in-1 Snowboard Jacket Wi...</td>\n",
       "      <td>56.99</td>\n",
       "      <td>Note:The Jackets is US standard size, Please c...</td>\n",
       "      <td>women's clothing</td>\n",
       "      <td>https://fakestoreapi.com/img/51Y5NI-I5jL._AC_U...</td>\n",
       "      <td>{'rate': 2.6, 'count': 235}</td>\n",
       "    </tr>\n",
       "    <tr>\n",
       "      <th>1</th>\n",
       "      <td>11</td>\n",
       "      <td>Silicon Power 256GB SSD 3D NAND A55 SLC Cache ...</td>\n",
       "      <td>109.00</td>\n",
       "      <td>3D NAND flash are applied to deliver high tran...</td>\n",
       "      <td>electronics</td>\n",
       "      <td>https://fakestoreapi.com/img/71kWymZ+c+L._AC_S...</td>\n",
       "      <td>{'rate': 4.8, 'count': 319}</td>\n",
       "    </tr>\n",
       "    <tr>\n",
       "      <th>2</th>\n",
       "      <td>5</td>\n",
       "      <td>John Hardy Women's Legends Naga Gold &amp; Silver ...</td>\n",
       "      <td>695.00</td>\n",
       "      <td>From our Legends Collection, the Naga was insp...</td>\n",
       "      <td>jewelery</td>\n",
       "      <td>https://fakestoreapi.com/img/71pWzhdJNwL._AC_U...</td>\n",
       "      <td>{'rate': 4.6, 'count': 400}</td>\n",
       "    </tr>\n",
       "  </tbody>\n",
       "</table>\n",
       "</div>"
      ],
      "text/plain": [
       "   id                                              title   price  \\\n",
       "0  15  BIYLACLESEN Women's 3-in-1 Snowboard Jacket Wi...   56.99   \n",
       "1  11  Silicon Power 256GB SSD 3D NAND A55 SLC Cache ...  109.00   \n",
       "2   5  John Hardy Women's Legends Naga Gold & Silver ...  695.00   \n",
       "\n",
       "                                         description          category  \\\n",
       "0  Note:The Jackets is US standard size, Please c...  women's clothing   \n",
       "1  3D NAND flash are applied to deliver high tran...       electronics   \n",
       "2  From our Legends Collection, the Naga was insp...          jewelery   \n",
       "\n",
       "                                               image  \\\n",
       "0  https://fakestoreapi.com/img/51Y5NI-I5jL._AC_U...   \n",
       "1  https://fakestoreapi.com/img/71kWymZ+c+L._AC_S...   \n",
       "2  https://fakestoreapi.com/img/71pWzhdJNwL._AC_U...   \n",
       "\n",
       "                        rating  \n",
       "0  {'rate': 2.6, 'count': 235}  \n",
       "1  {'rate': 4.8, 'count': 319}  \n",
       "2  {'rate': 4.6, 'count': 400}  "
      ]
     },
     "metadata": {},
     "output_type": "display_data"
    }
   ],
   "source": [
    "expensive_read = pd.read_excel('expensive_products.xlsx')\n",
    "\n",
    "print(\"Содержимое файла 'expensive_products.xlsx':\")\n",
    "display(expensive_read)"
   ]
  },
  {
   "cell_type": "markdown",
   "metadata": {},
   "source": [
    "**Вывод:** Все товары разделили на категории в зависимости от цены и сохранили каждую категорию в отдельный Excel-файл."
   ]
  },
  {
   "cell_type": "markdown",
   "metadata": {},
   "source": [
    "---------------------------"
   ]
  },
  {
   "cell_type": "markdown",
   "metadata": {},
   "source": [
    "**Задание 3**\n",
    "\n",
    "_**Описание:**_\n",
    "\n",
    "В файле \"Тест на джуна\" на листе \"Задание 3\" приведена таблица со ставками за целевое действие пользователья в приложении (CPA). Посчитать ROI для каждого клиента и, где ROI ниже 100% предложить такую ставку партнёру, чтобы ROI был равен 200%. Примечания: 1. ставка партнёрам всегда в долларах США. 2. профит рассчитывается как ставка нам минус ставка партнёру."
   ]
  },
  {
   "cell_type": "markdown",
   "metadata": {},
   "source": [
    "_**План работы**_\n",
    "1. Преобразуем все ставки в доллары США для единообразия.\n",
    "2. Рассчитаем ROI для каждого клиента.\n",
    "3. Найдем клиентов, у которых ROI ниже 100%, и предложим новую ставку партнёру, чтобы ROI был равен 200%.\n",
    "\n",
    "_**Решение:**_\n",
    "\n",
    "Для начала, установим курсы валют для преобразования в доллары США. Допустим, что курсы валют следующие (для примера):\n",
    "\n",
    "1 RUB = 0.01 USD\n",
    "1 EUR = 1.09 USD\n",
    "1 AUD = 0.67 USD"
   ]
  },
  {
   "cell_type": "code",
   "execution_count": 33,
   "metadata": {},
   "outputs": [
    {
     "data": {
      "text/html": [
       "<div>\n",
       "<style scoped>\n",
       "    .dataframe tbody tr th:only-of-type {\n",
       "        vertical-align: middle;\n",
       "    }\n",
       "\n",
       "    .dataframe tbody tr th {\n",
       "        vertical-align: top;\n",
       "    }\n",
       "\n",
       "    .dataframe thead th {\n",
       "        text-align: right;\n",
       "    }\n",
       "</style>\n",
       "<table border=\"1\" class=\"dataframe\">\n",
       "  <thead>\n",
       "    <tr style=\"text-align: right;\">\n",
       "      <th></th>\n",
       "      <th>Клиент</th>\n",
       "      <th>Ставка нам</th>\n",
       "      <th>Валюта</th>\n",
       "      <th>Ставка партнёру</th>\n",
       "    </tr>\n",
       "  </thead>\n",
       "  <tbody>\n",
       "    <tr>\n",
       "      <th>0</th>\n",
       "      <td>Клиент 1</td>\n",
       "      <td>5000</td>\n",
       "      <td>RUB</td>\n",
       "      <td>40</td>\n",
       "    </tr>\n",
       "    <tr>\n",
       "      <th>1</th>\n",
       "      <td>Клиент 2</td>\n",
       "      <td>120</td>\n",
       "      <td>EUR</td>\n",
       "      <td>55</td>\n",
       "    </tr>\n",
       "    <tr>\n",
       "      <th>2</th>\n",
       "      <td>Клиент 3</td>\n",
       "      <td>80</td>\n",
       "      <td>USD</td>\n",
       "      <td>40</td>\n",
       "    </tr>\n",
       "    <tr>\n",
       "      <th>3</th>\n",
       "      <td>Клиент 4</td>\n",
       "      <td>65</td>\n",
       "      <td>AUD</td>\n",
       "      <td>60</td>\n",
       "    </tr>\n",
       "  </tbody>\n",
       "</table>\n",
       "</div>"
      ],
      "text/plain": [
       "     Клиент  Ставка нам Валюта  Ставка партнёру\n",
       "0  Клиент 1        5000    RUB               40\n",
       "1  Клиент 2         120    EUR               55\n",
       "2  Клиент 3          80    USD               40\n",
       "3  Клиент 4          65    AUD               60"
      ]
     },
     "metadata": {},
     "output_type": "display_data"
    }
   ],
   "source": [
    "import pandas as pd\n",
    "from IPython.display import display, Markdown\n",
    "\n",
    "# Укажем путь к вашему Excel файлу\n",
    "file_path = 'Тест на джуна.xlsx'\n",
    "\n",
    "# Определим диапазон строк и столбцов, который вы хотите загрузить\n",
    "sheet_name = 'Задание 3'\n",
    "start_row = 3  # строки в pandas нумеруются с 0, поэтому строка 5 в Excel - это 4 в pandas\n",
    "nrows = 5  # количество строк, которые необходимо загрузить\n",
    "usecols = 'A:D'  # диапазон столбцов\n",
    "\n",
    "# Загрузим данные из указанного диапазона\n",
    "df_task_3 = pd.read_excel(file_path, sheet_name=sheet_name, skiprows=start_row, nrows=nrows, usecols=usecols)\n",
    "\n",
    "# Выведим DataFrame на экран\n",
    "display(df_task_3)\n"
   ]
  },
  {
   "cell_type": "markdown",
   "metadata": {},
   "source": [
    "_**1. Преобразуем все ставки в доллары США для единообразия**_"
   ]
  },
  {
   "cell_type": "code",
   "execution_count": 34,
   "metadata": {},
   "outputs": [
    {
     "data": {
      "text/html": [
       "<div>\n",
       "<style scoped>\n",
       "    .dataframe tbody tr th:only-of-type {\n",
       "        vertical-align: middle;\n",
       "    }\n",
       "\n",
       "    .dataframe tbody tr th {\n",
       "        vertical-align: top;\n",
       "    }\n",
       "\n",
       "    .dataframe thead th {\n",
       "        text-align: right;\n",
       "    }\n",
       "</style>\n",
       "<table border=\"1\" class=\"dataframe\">\n",
       "  <thead>\n",
       "    <tr style=\"text-align: right;\">\n",
       "      <th></th>\n",
       "      <th>Клиент</th>\n",
       "      <th>Ставка нам</th>\n",
       "      <th>Валюта</th>\n",
       "      <th>Ставка партнёру</th>\n",
       "      <th>Ставка нам (USD)</th>\n",
       "    </tr>\n",
       "  </thead>\n",
       "  <tbody>\n",
       "    <tr>\n",
       "      <th>0</th>\n",
       "      <td>Клиент 1</td>\n",
       "      <td>5000</td>\n",
       "      <td>RUB</td>\n",
       "      <td>40</td>\n",
       "      <td>50.00</td>\n",
       "    </tr>\n",
       "    <tr>\n",
       "      <th>1</th>\n",
       "      <td>Клиент 2</td>\n",
       "      <td>120</td>\n",
       "      <td>EUR</td>\n",
       "      <td>55</td>\n",
       "      <td>130.80</td>\n",
       "    </tr>\n",
       "    <tr>\n",
       "      <th>2</th>\n",
       "      <td>Клиент 3</td>\n",
       "      <td>80</td>\n",
       "      <td>USD</td>\n",
       "      <td>40</td>\n",
       "      <td>80.00</td>\n",
       "    </tr>\n",
       "    <tr>\n",
       "      <th>3</th>\n",
       "      <td>Клиент 4</td>\n",
       "      <td>65</td>\n",
       "      <td>AUD</td>\n",
       "      <td>60</td>\n",
       "      <td>43.55</td>\n",
       "    </tr>\n",
       "  </tbody>\n",
       "</table>\n",
       "</div>"
      ],
      "text/plain": [
       "     Клиент  Ставка нам Валюта  Ставка партнёру  Ставка нам (USD)\n",
       "0  Клиент 1        5000    RUB               40             50.00\n",
       "1  Клиент 2         120    EUR               55            130.80\n",
       "2  Клиент 3          80    USD               40             80.00\n",
       "3  Клиент 4          65    AUD               60             43.55"
      ]
     },
     "metadata": {},
     "output_type": "display_data"
    }
   ],
   "source": [
    "import pandas as pd\n",
    "\n",
    "# Укажем путь к вашему Excel файлу\n",
    "file_path = 'Тест на джуна.xlsx'\n",
    "\n",
    "# Определим диапазон строк и столбцов, который мы хотите загрузить\n",
    "sheet_name = 'Задание 3'\n",
    "start_row = 3  \n",
    "nrows = 5  \n",
    "usecols = 'A:D'  \n",
    "\n",
    "# Загрузим данные из указанного диапазона\n",
    "df_task_3 = pd.read_excel(file_path, sheet_name=sheet_name, skiprows=start_row, nrows=nrows, usecols=usecols)\n",
    "\n",
    "# Преобразование ставок в доллары США\n",
    "exchange_rates = {\n",
    "    'RUB': 0.01,\n",
    "    'EUR': 1.09,\n",
    "    'USD': 1,\n",
    "    'AUD': 0.67\n",
    "}\n",
    "\n",
    "# Преобразование столбца \"Ставка нам\" в доллары США\n",
    "df_task_3['Ставка нам (USD)'] = df_task_3.apply(lambda row: row['Ставка нам'] * exchange_rates[row['Валюта']], axis=1)\n",
    "\n",
    "# Вывод DataFrame на экран для проверки\n",
    "display(df_task_3)"
   ]
  },
  {
   "cell_type": "markdown",
   "metadata": {},
   "source": [
    "_**Вывод:**_ Преобразовали столбец \"Ставки нам\" к единой валюте. "
   ]
  },
  {
   "cell_type": "markdown",
   "metadata": {},
   "source": [
    "_**2. Рассчитаем ROI для каждого клиента**_"
   ]
  },
  {
   "cell_type": "code",
   "execution_count": 35,
   "metadata": {},
   "outputs": [
    {
     "data": {
      "text/html": [
       "<div>\n",
       "<style scoped>\n",
       "    .dataframe tbody tr th:only-of-type {\n",
       "        vertical-align: middle;\n",
       "    }\n",
       "\n",
       "    .dataframe tbody tr th {\n",
       "        vertical-align: top;\n",
       "    }\n",
       "\n",
       "    .dataframe thead th {\n",
       "        text-align: right;\n",
       "    }\n",
       "</style>\n",
       "<table border=\"1\" class=\"dataframe\">\n",
       "  <thead>\n",
       "    <tr style=\"text-align: right;\">\n",
       "      <th></th>\n",
       "      <th>Клиент</th>\n",
       "      <th>Ставка нам</th>\n",
       "      <th>Валюта</th>\n",
       "      <th>Ставка партнёру</th>\n",
       "      <th>Ставка нам (USD)</th>\n",
       "      <th>Профит</th>\n",
       "      <th>ROI</th>\n",
       "    </tr>\n",
       "  </thead>\n",
       "  <tbody>\n",
       "    <tr>\n",
       "      <th>0</th>\n",
       "      <td>Клиент 1</td>\n",
       "      <td>5000</td>\n",
       "      <td>RUB</td>\n",
       "      <td>40</td>\n",
       "      <td>50.00</td>\n",
       "      <td>10.00</td>\n",
       "      <td>25.000000</td>\n",
       "    </tr>\n",
       "    <tr>\n",
       "      <th>1</th>\n",
       "      <td>Клиент 2</td>\n",
       "      <td>120</td>\n",
       "      <td>EUR</td>\n",
       "      <td>55</td>\n",
       "      <td>130.80</td>\n",
       "      <td>75.80</td>\n",
       "      <td>137.818182</td>\n",
       "    </tr>\n",
       "    <tr>\n",
       "      <th>2</th>\n",
       "      <td>Клиент 3</td>\n",
       "      <td>80</td>\n",
       "      <td>USD</td>\n",
       "      <td>40</td>\n",
       "      <td>80.00</td>\n",
       "      <td>40.00</td>\n",
       "      <td>100.000000</td>\n",
       "    </tr>\n",
       "    <tr>\n",
       "      <th>3</th>\n",
       "      <td>Клиент 4</td>\n",
       "      <td>65</td>\n",
       "      <td>AUD</td>\n",
       "      <td>60</td>\n",
       "      <td>43.55</td>\n",
       "      <td>-16.45</td>\n",
       "      <td>-27.416667</td>\n",
       "    </tr>\n",
       "  </tbody>\n",
       "</table>\n",
       "</div>"
      ],
      "text/plain": [
       "     Клиент  Ставка нам Валюта  Ставка партнёру  Ставка нам (USD)  Профит  \\\n",
       "0  Клиент 1        5000    RUB               40             50.00   10.00   \n",
       "1  Клиент 2         120    EUR               55            130.80   75.80   \n",
       "2  Клиент 3          80    USD               40             80.00   40.00   \n",
       "3  Клиент 4          65    AUD               60             43.55  -16.45   \n",
       "\n",
       "          ROI  \n",
       "0   25.000000  \n",
       "1  137.818182  \n",
       "2  100.000000  \n",
       "3  -27.416667  "
      ]
     },
     "metadata": {},
     "output_type": "display_data"
    }
   ],
   "source": [
    "# Рассчет профита и ROI\n",
    "df_task_3['Профит'] = df_task_3['Ставка нам (USD)'] - df_task_3['Ставка партнёру']\n",
    "df_task_3['ROI'] = (df_task_3['Профит'] / df_task_3['Ставка партнёру']) * 100\n",
    "\n",
    "# Вывод DataFrame на экран для проверки\n",
    "display(df_task_3)"
   ]
  },
  {
   "cell_type": "markdown",
   "metadata": {},
   "source": [
    "_**Вывод:**_ Из полученных расчетов ROI следует, что новую ставку необходимо предложить партнёрам для Клиентов 1 и 4, так как их ROI оказался ниже 100% и равен 25% и -27,42% соответственно."
   ]
  },
  {
   "cell_type": "markdown",
   "metadata": {},
   "source": [
    "**3. Для клиентов, у которых ROI ниже 100% предложим новую ставку, чтобы ROI был равен 200%**"
   ]
  },
  {
   "cell_type": "code",
   "execution_count": 36,
   "metadata": {},
   "outputs": [
    {
     "data": {
      "text/html": [
       "<div>\n",
       "<style scoped>\n",
       "    .dataframe tbody tr th:only-of-type {\n",
       "        vertical-align: middle;\n",
       "    }\n",
       "\n",
       "    .dataframe tbody tr th {\n",
       "        vertical-align: top;\n",
       "    }\n",
       "\n",
       "    .dataframe thead th {\n",
       "        text-align: right;\n",
       "    }\n",
       "</style>\n",
       "<table border=\"1\" class=\"dataframe\">\n",
       "  <thead>\n",
       "    <tr style=\"text-align: right;\">\n",
       "      <th></th>\n",
       "      <th>Клиент</th>\n",
       "      <th>Ставка нам</th>\n",
       "      <th>Валюта</th>\n",
       "      <th>Ставка партнёру</th>\n",
       "      <th>Ставка нам (USD)</th>\n",
       "      <th>Профит</th>\n",
       "      <th>ROI</th>\n",
       "      <th>Новая ставка партнёру (если ROI &lt; 100%)</th>\n",
       "      <th>new_Профит</th>\n",
       "      <th>new_ROI</th>\n",
       "    </tr>\n",
       "  </thead>\n",
       "  <tbody>\n",
       "    <tr>\n",
       "      <th>0</th>\n",
       "      <td>Клиент 1</td>\n",
       "      <td>5000</td>\n",
       "      <td>RUB</td>\n",
       "      <td>40</td>\n",
       "      <td>50.00</td>\n",
       "      <td>10.00</td>\n",
       "      <td>25.000000</td>\n",
       "      <td>16.666667</td>\n",
       "      <td>33.333333</td>\n",
       "      <td>200.000000</td>\n",
       "    </tr>\n",
       "    <tr>\n",
       "      <th>1</th>\n",
       "      <td>Клиент 2</td>\n",
       "      <td>120</td>\n",
       "      <td>EUR</td>\n",
       "      <td>55</td>\n",
       "      <td>130.80</td>\n",
       "      <td>75.80</td>\n",
       "      <td>137.818182</td>\n",
       "      <td>55.000000</td>\n",
       "      <td>75.800000</td>\n",
       "      <td>137.818182</td>\n",
       "    </tr>\n",
       "    <tr>\n",
       "      <th>2</th>\n",
       "      <td>Клиент 3</td>\n",
       "      <td>80</td>\n",
       "      <td>USD</td>\n",
       "      <td>40</td>\n",
       "      <td>80.00</td>\n",
       "      <td>40.00</td>\n",
       "      <td>100.000000</td>\n",
       "      <td>40.000000</td>\n",
       "      <td>40.000000</td>\n",
       "      <td>100.000000</td>\n",
       "    </tr>\n",
       "    <tr>\n",
       "      <th>3</th>\n",
       "      <td>Клиент 4</td>\n",
       "      <td>65</td>\n",
       "      <td>AUD</td>\n",
       "      <td>60</td>\n",
       "      <td>43.55</td>\n",
       "      <td>-16.45</td>\n",
       "      <td>-27.416667</td>\n",
       "      <td>14.516667</td>\n",
       "      <td>29.033333</td>\n",
       "      <td>200.000000</td>\n",
       "    </tr>\n",
       "  </tbody>\n",
       "</table>\n",
       "</div>"
      ],
      "text/plain": [
       "     Клиент  Ставка нам Валюта  Ставка партнёру  Ставка нам (USD)  Профит  \\\n",
       "0  Клиент 1        5000    RUB               40             50.00   10.00   \n",
       "1  Клиент 2         120    EUR               55            130.80   75.80   \n",
       "2  Клиент 3          80    USD               40             80.00   40.00   \n",
       "3  Клиент 4          65    AUD               60             43.55  -16.45   \n",
       "\n",
       "          ROI  Новая ставка партнёру (если ROI < 100%)  new_Профит     new_ROI  \n",
       "0   25.000000                                16.666667   33.333333  200.000000  \n",
       "1  137.818182                                55.000000   75.800000  137.818182  \n",
       "2  100.000000                                40.000000   40.000000  100.000000  \n",
       "3  -27.416667                                14.516667   29.033333  200.000000  "
      ]
     },
     "metadata": {},
     "output_type": "display_data"
    }
   ],
   "source": [
    "# Рассчет новой ставки партнёру для достижения ROI 200%\n",
    "df_task_3['Новая ставка партнёру (если ROI < 100%)'] = df_task_3.apply(\n",
    "    lambda row: row['Ставка нам (USD)'] / 3 if row['ROI'] < 100 else row['Ставка партнёру'],\n",
    "    axis=1\n",
    ")\n",
    "df_task_3['new_Профит'] = df_task_3['Ставка нам (USD)'] - df_task_3['Новая ставка партнёру (если ROI < 100%)']\n",
    "df_task_3['new_ROI'] = (df_task_3['new_Профит'] / df_task_3['Новая ставка партнёру (если ROI < 100%)']) * 100\n",
    "# Вывод DataFrame на экран для проверки\n",
    "display(df_task_3)"
   ]
  },
  {
   "cell_type": "markdown",
   "metadata": {},
   "source": [
    "_**Вывод:**_ Получили новые ставки партнёрам с ROI 200% для Клиентов 1 и 4 равными 16,67 и 14,52 соответственно."
   ]
  },
  {
   "cell_type": "markdown",
   "metadata": {},
   "source": [
    "--------------------------------------------------------------------------"
   ]
  },
  {
   "cell_type": "markdown",
   "metadata": {},
   "source": [
    "**Задание 4**"
   ]
  },
  {
   "cell_type": "markdown",
   "metadata": {},
   "source": [
    "_**Описание:**_\n",
    "\n",
    "Представлена выгрузка о полученных событиях приложения Х при показе рекламы источником У. Условиями договора с рекламодателем определено, что оплачиваются только события, по которым от даты установки до события прошло не более 2 суток. Ставка за событие составляет: 200 у.е. по Сан-Паулу и 100 у.е. по остальным городам. Определить сумму, которую рекламодатель выплатит по результатам данной рекламной компании."
   ]
  },
  {
   "cell_type": "markdown",
   "metadata": {},
   "source": [
    "_**План работы:**_\n",
    "1. Загрузим данные из Excel.\n",
    "Преобразуем строки с датами в формат даты и времени.\n",
    "2. Вычислим разницу между временем события и временем установки.\n",
    "Отберем только те события, разница между временем которых не превышает 2 суток.\n",
    "Подсчитаем количество событий по городу Сан-Паулу и другим городам.\n",
    "Рассчитаем сумму выплат по заданным ставкам."
   ]
  },
  {
   "cell_type": "markdown",
   "metadata": {},
   "source": [
    "_**Решение:**_"
   ]
  },
  {
   "cell_type": "markdown",
   "metadata": {},
   "source": [
    "_**1. Загрузим данные из Excel. Преобразуем строки с датами в формат даты и времени.**_"
   ]
  },
  {
   "cell_type": "code",
   "execution_count": 52,
   "metadata": {},
   "outputs": [
    {
     "name": "stdout",
     "output_type": "stream",
     "text": [
      "<class 'pandas.core.frame.DataFrame'>\n",
      "RangeIndex: 169 entries, 0 to 168\n",
      "Data columns (total 4 columns):\n",
      " #   Column        Non-Null Count  Dtype         \n",
      "---  ------        --------------  -----         \n",
      " 0   Install Time  169 non-null    datetime64[ns]\n",
      " 1   Event Time    169 non-null    datetime64[ns]\n",
      " 2   Adset         169 non-null    int64         \n",
      " 3   City          169 non-null    object        \n",
      "dtypes: datetime64[ns](2), int64(1), object(1)\n",
      "memory usage: 5.4+ KB\n"
     ]
    }
   ],
   "source": [
    "import pandas as pd\n",
    "import matplotlib.pyplot as plt\n",
    "import seaborn as sns\n",
    "\n",
    "# Загрузим данные из Excel файла\n",
    "file_path = 'Тест на джуна.xlsx'\n",
    "sheet_name = 'Задание 4'\n",
    "start_row = 2\n",
    "nrows = 173\n",
    "usecols = 'A:D'\n",
    "\n",
    "# Загрузим данные из указанного диапазона\n",
    "df_task_4 = pd.read_excel(file_path, sheet_name=sheet_name, skiprows=start_row, nrows=nrows, usecols=usecols)\n",
    "\n",
    "# Выведим общую информацию о датасете для проверки корректности данных\n",
    "df_task_4.info()"
   ]
  },
  {
   "cell_type": "markdown",
   "metadata": {},
   "source": [
    "**Вывод:** Необходимо преобразовать столбцы с датами в формат datetime. Все остальные типы данных соответствуют содержимому. Пропущенных значений нет. Можно производить дальнейший анализ данных."
   ]
  },
  {
   "cell_type": "code",
   "execution_count": 53,
   "metadata": {},
   "outputs": [],
   "source": [
    "# Переименуем столбцы\n",
    "df_task_4.columns = ['install_time', 'event_time', 'adset', 'city']\n",
    "\n",
    "# Преобразуем столбцы с датами в формат datetime\n",
    "df_task_4['install_time'] = pd.to_datetime(df_task_4['install_time'])\n",
    "df_task_4['event_time'] = pd.to_datetime(df_task_4['event_time'])"
   ]
  },
  {
   "cell_type": "markdown",
   "metadata": {},
   "source": [
    "_**2. Вычислим разницу между временем события и временем установки.Отберем только те события, разница между временем которых не превышает 2 суток. Подсчитаем количество событий по городу Сан-Паулу и другим городам. Рассчитаем сумму выплат по заданным ставкам.:**_"
   ]
  },
  {
   "cell_type": "code",
   "execution_count": 54,
   "metadata": {},
   "outputs": [
    {
     "name": "stdout",
     "output_type": "stream",
     "text": [
      "Общая сумма, которую рекламодатель выплатит: 17300 y.e.\n"
     ]
    }
   ],
   "source": [
    "# Рассчитаем разницу в днях между событием и установкой\n",
    "df_task_4['days_diff'] = (df_task_4['event_time'] - df_task_4['install_time']).dt.days\n",
    "\n",
    "# Отфильтруем события, где разница меньше или равна 2 суток\n",
    "valid_events = df_task_4[df_task_4['days_diff'] <= 2].copy()\n",
    "\n",
    "# Определим ставку в зависимости от города\n",
    "valid_events['rate'] = valid_events['city'].apply(lambda x: 200 if x == 'Sao Paulo' else 100)\n",
    "\n",
    "# Рассчитайем общую сумму\n",
    "total_amount = valid_events['rate'].sum()\n",
    "print(f\"Общая сумма, которую рекламодатель выплатит: {total_amount} y.e.\")"
   ]
  },
  {
   "cell_type": "markdown",
   "metadata": {},
   "source": [
    "**Вывод к Заданию 4:**  \n",
    "_**Общая сумма, которую рекламодатель выплатит, составляет 17300 USD**_"
   ]
  },
  {
   "cell_type": "markdown",
   "metadata": {},
   "source": [
    "---------------------------------------------------------------------------------------------------------------------------------------------------------------------------------------------------"
   ]
  },
  {
   "cell_type": "markdown",
   "metadata": {},
   "source": [
    "**Задание 5**"
   ]
  },
  {
   "cell_type": "markdown",
   "metadata": {},
   "source": [
    "_**Описание:**_\n",
    "\n",
    "Используя выгрузку задания 4, определить оптимальные критерии показа рекламы для достижения наилучшей конверсии (определить часовой промежуток показа рекламы, города показа и адсет). Также на основании представленных данных сделать прогноз о количестве событий за весь апрель при сохранении текущих объёмов."
   ]
  },
  {
   "cell_type": "markdown",
   "metadata": {},
   "source": [
    "_**План работы:**_\n",
    "1. Определить оптимальные критерии показа рекламы для достижения наилучшей конверсии;\n",
    "2. На основании представленных данных сделать прогноз о количестве событий за весь апрель при сохранении текущих объёмов."
   ]
  },
  {
   "cell_type": "markdown",
   "metadata": {},
   "source": [
    "_**Решение:**_"
   ]
  },
  {
   "cell_type": "markdown",
   "metadata": {},
   "source": [
    "_**1. Определим оптимальные критерии показа рекламы для достижения наилучшей конверсии:**_"
   ]
  },
  {
   "cell_type": "code",
   "execution_count": 55,
   "metadata": {},
   "outputs": [
    {
     "data": {
      "image/png": "[encoded data removed]",
      "text/plain": [
       "<Figure size 1500x500 with 3 Axes>"
      ]
     },
     "metadata": {},
     "output_type": "display_data"
    },
    {
     "name": "stdout",
     "output_type": "stream",
     "text": [
      "Топ-5 городов для показа рекламы:\n",
      "Sao Paulo                13\n",
      "Belo Horizonte            5\n",
      "Rio De Janeiro            5\n",
      "Feira De Santana          3\n",
      "Aguas Lindas De Goias     2\n",
      "Name: city, dtype: int64\n",
      "\n",
      "Топ-5 адсетов по количеству событий:\n",
      "17    85\n",
      "5     42\n",
      "13    13\n",
      "15     5\n",
      "1      5\n",
      "Name: adset, dtype: int64\n",
      "\n"
     ]
    }
   ],
   "source": [
    "# Добавим столбец с часом события\n",
    "valid_events['event_hour'] = valid_events['event_time'].dt.hour\n",
    "\n",
    "# Подсчитаем количество событий по часам, городам и адсетам\n",
    "events_per_hour = valid_events['event_hour'].value_counts().sort_index()\n",
    "events_per_city = valid_events['city'].value_counts().sort_values(ascending=False).head(20)\n",
    "events_per_adset = valid_events['adset'].value_counts().sort_values(ascending=False).head(5)\n",
    "\n",
    "# Построим диаграммы\n",
    "plt.figure(figsize=(15, 5))\n",
    "\n",
    "# Диаграмма по городам\n",
    "plt.subplot(1, 3, 1)\n",
    "sns.barplot(x=events_per_city.values, y=events_per_city.index, palette='viridis')\n",
    "plt.title('Top Cities')\n",
    "plt.xlabel('Number of Events')\n",
    "plt.ylabel('City')\n",
    "\n",
    "# Диаграмма по часовым промежуткам\n",
    "plt.subplot(1, 3, 2)\n",
    "sns.barplot(x=events_per_hour.index, y=events_per_hour.values, palette='viridis')\n",
    "plt.title('Events per Hour')\n",
    "plt.xlabel('Hour of Day')\n",
    "plt.ylabel('Number of Events')\n",
    "\n",
    "# Горизонтальная диаграмма по адсетам\n",
    "plt.subplot(1, 3, 3)\n",
    "sns.barplot(x=events_per_adset.values, y=events_per_adset.index, palette='viridis', orient='h')\n",
    "plt.title('Top 5 Adsets')\n",
    "plt.xlabel('Number of Events')\n",
    "plt.ylabel('Adset')\n",
    "\n",
    "plt.tight_layout()\n",
    "plt.show()\n",
    "\n",
    "# Вывод результатов\n",
    "print(f\"Топ-5 городов для показа рекламы:\\n{events_per_city.head(5)}\\n\")\n",
    "print(f\"Топ-5 адсетов по количеству событий:\\n{events_per_adset.head(5)}\\n\")\n"
   ]
  },
  {
   "cell_type": "markdown",
   "metadata": {},
   "source": [
    "**Вывод:**\n",
    "\n",
    "_**Исходя из полученных данных, оптимальными критериями для достижения наилучшей конверсии являются следующие:**_\n",
    "\n",
    "_**Города для показа рекламы:**_\n",
    "\n",
    "1. Sao Paulo - 13 событий\n",
    "2. Belo Horizonte - 5 событий\n",
    "3. Rio De Janeiro - 5 событий\n",
    "\n",
    "_**Время показа рекламы:**_\n",
    "\n",
    "_**Самым оптимальным промежутком времени**_ является период _**от полуночи до 3 часов**_, при этом _**пик количества событий приходится на 2 часа**_. Далее, с чуть меньшей конверсией, следует промежуток около _**10 часов, промежуток с 14 до 15 часов и 17 часов**_.\n",
    "\n",
    "_**Адсеты с наибольшим количеством событий:**_\n",
    "\n",
    "1. Адсет 17 - 85 событий\n",
    "2. Адсет 5 - около 42 событий\n",
    "3. Адсет 13 - около 13 событий"
   ]
  },
  {
   "cell_type": "markdown",
   "metadata": {},
   "source": [
    "_**2. На основании представленных данных сделаем прогноз о количестве событий за весь апрель при сохранении текущих объёмов:**_"
   ]
  },
  {
   "cell_type": "code",
   "execution_count": 56,
   "metadata": {},
   "outputs": [
    {
     "data": {
      "text/markdown": [
       "Вывод:"
      ],
      "text/plain": [
       "<IPython.core.display.Markdown object>"
      ]
     },
     "metadata": {},
     "output_type": "display_data"
    },
    {
     "name": "stdout",
     "output_type": "stream",
     "text": [
      "\n",
      "Прогнозируемое количество событий за апрель: 436\n"
     ]
    }
   ],
   "source": [
    "# Прогнозируем количество событий за весь апрель\n",
    "events_per_day = valid_events['event_time'].dt.date.value_counts().mean()\n",
    "total_events_april = events_per_day * 30  # апрель имеет 30 дней\n",
    "\n",
    "display(Markdown(\"Вывод:\"))\n",
    "print(f\"\\nПрогнозируемое количество событий за апрель: {total_events_april:.0f}\")"
   ]
  },
  {
   "cell_type": "markdown",
   "metadata": {},
   "source": [
    "**Вывод к заданию 5:** \n",
    "\n",
    "_**Прогнозируемое количество событий за апрель 436.**_"
   ]
  }
 ],
 "metadata": {
  "kernelspec": {
   "display_name": "base",
   "language": "python",
   "name": "python3"
  },
  "language_info": {
   "codemirror_mode": {
    "name": "ipython",
    "version": 3
   },
   "file_extension": ".py",
   "mimetype": "text/x-python",
   "name": "python",
   "nbconvert_exporter": "python",
   "pygments_lexer": "ipython3",
   "version": "3.9.13"
  }
 },
 "nbformat": 4,
 "nbformat_minor": 2
}
