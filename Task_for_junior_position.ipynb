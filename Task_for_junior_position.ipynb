{
 "cells": [
  {
   "cell_type": "markdown",
   "metadata": {},
   "source": [
    "**Задание 1,2**"
   ]
  },
  {
   "cell_type": "markdown",
   "metadata": {},
   "source": [
    "**Описание проекта**\n",
    "1. Необходимо получить данные с сайта https://fakestoreapi.com/ с помощью Python, сформировать csv файл с описанием 10 любых продуктов. (преобразование из формата json в csv должно происходить внутри кода).\n",
    "2. С помощью Python открыть csv файл из задания 1 и разделить товары на категории в зависимости от цены: cheap - нижние 30% при сортировке по стоимости; middle - 40-70% при сортировке по стоимости; expensive - верхние 30% при сортировке по стоимости. Разделить полученные данные на 3 отдельных файла excel в соответствии с полученной категорией. "
   ]
  },
  {
   "cell_type": "code",
   "execution_count": 32,
   "metadata": {},
   "outputs": [],
   "source": [
    "# Импорт необходимых библиотек\n",
    "import requests\n",
    "import pandas as pd"
   ]
  },
  {
   "cell_type": "markdown",
   "metadata": {},
   "source": [
    "**1. Выгрузим данные с сайта https://fakestoreapi.com/ с помощью Python, сформируем csv файл с описанием 10 любых продуктов**"
   ]
  },
  {
   "cell_type": "code",
   "execution_count": 33,
   "metadata": {},
   "outputs": [
    {
     "name": "stdout",
     "output_type": "stream",
     "text": [
      "<class 'pandas.core.frame.DataFrame'>\n",
      "RangeIndex: 20 entries, 0 to 19\n",
      "Data columns (total 7 columns):\n",
      " #   Column       Non-Null Count  Dtype  \n",
      "---  ------       --------------  -----  \n",
      " 0   id           20 non-null     int64  \n",
      " 1   title        20 non-null     object \n",
      " 2   price        20 non-null     float64\n",
      " 3   description  20 non-null     object \n",
      " 4   category     20 non-null     object \n",
      " 5   image        20 non-null     object \n",
      " 6   rating       20 non-null     object \n",
      "dtypes: float64(1), int64(1), object(5)\n",
      "memory usage: 1.2+ KB\n"
     ]
    }
   ],
   "source": [
    "# Получение данных с сайта\n",
    "response = requests.get('https://fakestoreapi.com/products')\n",
    "data = response.json()\n",
    "\n",
    "# Преобразование данных в DataFrame\n",
    "df = pd.DataFrame(data)\n",
    "\n",
    "# Вывод общей информации о датафрейме для проверки корректности данных\n",
    "df.info()"
   ]
  },
  {
   "cell_type": "markdown",
   "metadata": {},
   "source": [
    "***Вывод:*** Тип данных соответствует содержимому, пропущенных данных не обнаружено. Можно продолжить анализ данных."
   ]
  },
  {
   "cell_type": "code",
   "execution_count": 34,
   "metadata": {},
   "outputs": [
    {
     "name": "stdout",
     "output_type": "stream",
     "text": [
      "Данные сохранены в файл products.csv.\n"
     ]
    }
   ],
   "source": [
    "# Выбор 10 случайных продуктов\n",
    "df_sample = df.sample(n=10, random_state=1)\n",
    "\n",
    "# Запись DataFrame в CSV файл\n",
    "output_path = r'products.csv'\n",
    "df_sample.to_csv(output_path, index=False)\n",
    "\n",
    "print(f\"Данные сохранены в файл {output_path}.\")"
   ]
  },
  {
   "cell_type": "code",
   "execution_count": 35,
   "metadata": {},
   "outputs": [
    {
     "name": "stdout",
     "output_type": "stream",
     "text": [
      "Содержимое файла:\n",
      "   id                                              title   price  \\\n",
      "0   4                               Mens Casual Slim Fit   15.99   \n",
      "1  17  Rain Jacket Women Windbreaker Striped Climbing...   39.99   \n",
      "2   7                         White Gold Plated Princess    9.99   \n",
      "3  11  Silicon Power 256GB SSD 3D NAND A55 SLC Cache ...  109.00   \n",
      "4   3                                 Mens Cotton Jacket   55.99   \n",
      "5  15  BIYLACLESEN Women's 3-in-1 Snowboard Jacket Wi...   56.99   \n",
      "6   5  John Hardy Women's Legends Naga Gold & Silver ...  695.00   \n",
      "7  18        MBJ Women's Solid Short Sleeve Boat Neck V     9.85   \n",
      "8   8  Pierced Owl Rose Gold Plated Stainless Steel D...   10.99   \n",
      "9   2             Mens Casual Premium Slim Fit T-Shirts    22.30   \n",
      "\n",
      "                                         description          category  \\\n",
      "0  The color could be slightly different between ...    men's clothing   \n",
      "1  Lightweight perfet for trip or casual wear---L...  women's clothing   \n",
      "2  Classic Created Wedding Engagement Solitaire D...          jewelery   \n",
      "3  3D NAND flash are applied to deliver high tran...       electronics   \n",
      "4  great outerwear jackets for Spring/Autumn/Wint...    men's clothing   \n",
      "5  Note:The Jackets is US standard size, Please c...  women's clothing   \n",
      "6  From our Legends Collection, the Naga was insp...          jewelery   \n",
      "7  95% RAYON 5% SPANDEX, Made in USA or Imported,...  women's clothing   \n",
      "8  Rose Gold Plated Double Flared Tunnel Plug Ear...          jewelery   \n",
      "9  Slim-fitting style, contrast raglan long sleev...    men's clothing   \n",
      "\n",
      "                                               image  \\\n",
      "0  https://fakestoreapi.com/img/71YXzeOuslL._AC_U...   \n",
      "1  https://fakestoreapi.com/img/71HblAHs5xL._AC_U...   \n",
      "2  https://fakestoreapi.com/img/71YAIFU48IL._AC_U...   \n",
      "3  https://fakestoreapi.com/img/71kWymZ+c+L._AC_S...   \n",
      "4  https://fakestoreapi.com/img/71li-ujtlUL._AC_U...   \n",
      "5  https://fakestoreapi.com/img/51Y5NI-I5jL._AC_U...   \n",
      "6  https://fakestoreapi.com/img/71pWzhdJNwL._AC_U...   \n",
      "7  https://fakestoreapi.com/img/71z3kpMAYsL._AC_U...   \n",
      "8  https://fakestoreapi.com/img/51UDEzMJVpL._AC_U...   \n",
      "9  https://fakestoreapi.com/img/71-3HjGNDUL._AC_S...   \n",
      "\n",
      "                        rating  \n",
      "0  {'rate': 2.1, 'count': 430}  \n",
      "1  {'rate': 3.8, 'count': 679}  \n",
      "2    {'rate': 3, 'count': 400}  \n",
      "3  {'rate': 4.8, 'count': 319}  \n",
      "4  {'rate': 4.7, 'count': 500}  \n",
      "5  {'rate': 2.6, 'count': 235}  \n",
      "6  {'rate': 4.6, 'count': 400}  \n",
      "7  {'rate': 4.7, 'count': 130}  \n",
      "8  {'rate': 1.9, 'count': 100}  \n",
      "9  {'rate': 4.1, 'count': 259}  \n"
     ]
    }
   ],
   "source": [
    "# Чтение CSV файла и отображение его содержимого\n",
    "df_read = pd.read_csv(output_path)\n",
    "print(\"Содержимое файла:\")\n",
    "print(df_read)"
   ]
  },
  {
   "cell_type": "markdown",
   "metadata": {},
   "source": [
    "**Вывод:** Были получены данные с сайта и выполнена их проверка. Данные были отсортированы в соответствии с заданием и сохранены в файл под названием 'products.csv' в формате CSV."
   ]
  },
  {
   "cell_type": "markdown",
   "metadata": {},
   "source": [
    "**2. С помощью Python откроем csv файл 'products.csv' и разделим товары на категории в зависимости от цены**"
   ]
  },
  {
   "cell_type": "code",
   "execution_count": 36,
   "metadata": {},
   "outputs": [
    {
     "name": "stdout",
     "output_type": "stream",
     "text": [
      "Данные разделены на категории и сохранены в файлы Excel.\n"
     ]
    }
   ],
   "source": [
    "# Чтение данных из CSV файла\n",
    "df = pd.read_csv(output_path)\n",
    "\n",
    "# Сортировка данных по цене\n",
    "df_sorted = df.sort_values(by='price')\n",
    "\n",
    "# Определение границ для категорий\n",
    "n = len(df_sorted)\n",
    "cheap_boundary = int(n * 0.3)\n",
    "middle_boundary_start = int(n * 0.3)\n",
    "middle_boundary_end = int(n * 0.7)\n",
    "\n",
    "# Разделение данных на категории\n",
    "cheap = df_sorted.iloc[:cheap_boundary]\n",
    "middle = df_sorted.iloc[middle_boundary_start:middle_boundary_end]\n",
    "expensive = df_sorted.iloc[middle_boundary_end:]\n",
    "\n",
    "# Запись данных в отдельные файлы Excel\n",
    "cheap.to_excel('cheap_products.xlsx', index=False)\n",
    "middle.to_excel('middle_products.xlsx', index=False)\n",
    "expensive.to_excel('expensive_products.xlsx', index=False)\n",
    "\n",
    "print(\"Данные разделены на категории и сохранены в файлы Excel.\")"
   ]
  },
  {
   "cell_type": "code",
   "execution_count": 37,
   "metadata": {},
   "outputs": [
    {
     "name": "stdout",
     "output_type": "stream",
     "text": [
      "\n",
      "Cheap Products:\n",
      "   id                                              title  price  \\\n",
      "0  18        MBJ Women's Solid Short Sleeve Boat Neck V    9.85   \n",
      "1   7                         White Gold Plated Princess   9.99   \n",
      "2   8  Pierced Owl Rose Gold Plated Stainless Steel D...  10.99   \n",
      "\n",
      "                                         description          category  \\\n",
      "0  95% RAYON 5% SPANDEX, Made in USA or Imported,...  women's clothing   \n",
      "1  Classic Created Wedding Engagement Solitaire D...          jewelery   \n",
      "2  Rose Gold Plated Double Flared Tunnel Plug Ear...          jewelery   \n",
      "\n",
      "                                               image  \\\n",
      "0  https://fakestoreapi.com/img/71z3kpMAYsL._AC_U...   \n",
      "1  https://fakestoreapi.com/img/71YAIFU48IL._AC_U...   \n",
      "2  https://fakestoreapi.com/img/51UDEzMJVpL._AC_U...   \n",
      "\n",
      "                        rating  \n",
      "0  {'rate': 4.7, 'count': 130}  \n",
      "1    {'rate': 3, 'count': 400}  \n",
      "2  {'rate': 1.9, 'count': 100}  \n"
     ]
    }
   ],
   "source": [
    "# Чтение и вывод содержимого файлов Excel на экран\n",
    "cheap_read = pd.read_excel('cheap_products.xlsx')\n",
    "\n",
    "print(\"\\nCheap Products:\")\n",
    "print(cheap_read)"
   ]
  },
  {
   "cell_type": "code",
   "execution_count": 38,
   "metadata": {},
   "outputs": [
    {
     "name": "stdout",
     "output_type": "stream",
     "text": [
      "Содержимое файла 'middle_products.xlsx':\n",
      "   id                                              title  price  \\\n",
      "0   4                               Mens Casual Slim Fit  15.99   \n",
      "1   2             Mens Casual Premium Slim Fit T-Shirts   22.30   \n",
      "2  17  Rain Jacket Women Windbreaker Striped Climbing...  39.99   \n",
      "3   3                                 Mens Cotton Jacket  55.99   \n",
      "\n",
      "                                         description          category  \\\n",
      "0  The color could be slightly different between ...    men's clothing   \n",
      "1  Slim-fitting style, contrast raglan long sleev...    men's clothing   \n",
      "2  Lightweight perfet for trip or casual wear---L...  women's clothing   \n",
      "3  great outerwear jackets for Spring/Autumn/Wint...    men's clothing   \n",
      "\n",
      "                                               image  \\\n",
      "0  https://fakestoreapi.com/img/71YXzeOuslL._AC_U...   \n",
      "1  https://fakestoreapi.com/img/71-3HjGNDUL._AC_S...   \n",
      "2  https://fakestoreapi.com/img/71HblAHs5xL._AC_U...   \n",
      "3  https://fakestoreapi.com/img/71li-ujtlUL._AC_U...   \n",
      "\n",
      "                        rating  \n",
      "0  {'rate': 2.1, 'count': 430}  \n",
      "1  {'rate': 4.1, 'count': 259}  \n",
      "2  {'rate': 3.8, 'count': 679}  \n",
      "3  {'rate': 4.7, 'count': 500}  \n"
     ]
    }
   ],
   "source": [
    "middle_read = pd.read_excel('middle_products.xlsx')\n",
    "\n",
    "print(\"Содержимое файла 'middle_products.xlsx':\")\n",
    "print(middle_read)"
   ]
  },
  {
   "cell_type": "code",
   "execution_count": 39,
   "metadata": {},
   "outputs": [
    {
     "name": "stdout",
     "output_type": "stream",
     "text": [
      "Содержимое файла 'expensive_products.xlsx':\n",
      "   id                                              title   price  \\\n",
      "0  15  BIYLACLESEN Women's 3-in-1 Snowboard Jacket Wi...   56.99   \n",
      "1  11  Silicon Power 256GB SSD 3D NAND A55 SLC Cache ...  109.00   \n",
      "2   5  John Hardy Women's Legends Naga Gold & Silver ...  695.00   \n",
      "\n",
      "                                         description          category  \\\n",
      "0  Note:The Jackets is US standard size, Please c...  women's clothing   \n",
      "1  3D NAND flash are applied to deliver high tran...       electronics   \n",
      "2  From our Legends Collection, the Naga was insp...          jewelery   \n",
      "\n",
      "                                               image  \\\n",
      "0  https://fakestoreapi.com/img/51Y5NI-I5jL._AC_U...   \n",
      "1  https://fakestoreapi.com/img/71kWymZ+c+L._AC_S...   \n",
      "2  https://fakestoreapi.com/img/71pWzhdJNwL._AC_U...   \n",
      "\n",
      "                        rating  \n",
      "0  {'rate': 2.6, 'count': 235}  \n",
      "1  {'rate': 4.8, 'count': 319}  \n",
      "2  {'rate': 4.6, 'count': 400}  \n"
     ]
    }
   ],
   "source": [
    "expensive_read = pd.read_excel('expensive_products.xlsx')\n",
    "\n",
    "print(\"Содержимое файла 'expensive_products.xlsx':\")\n",
    "print(expensive_read)"
   ]
  },
  {
   "cell_type": "markdown",
   "metadata": {},
   "source": [
    "**Вывод:** Все товары разделили на категории в зависимости от цены и сохранили каждую категорию в отдельный Excel-файл."
   ]
  },
  {
   "cell_type": "markdown",
   "metadata": {},
   "source": [
    "**Задание 3**"
   ]
  },
  {
   "cell_type": "markdown",
   "metadata": {},
   "source": [
    "1. Преобразуем все ставки в доллары США для единообразия.\n",
    "2. Рассчитаем ROI для каждого клиента.\n",
    "3. Найдем клиентов, у которых ROI ниже 100%, и предложим новую ставку партнёру, чтобы ROI был равен 200%.\n",
    "\n",
    "Для начала, установим курсы валют для преобразования в доллары США. Допустим, что курсы валют следующие (для примера):\n",
    "\n",
    "1 RUB = 0.01 USD\n",
    "1 EUR = 1.09 USD\n",
    "1 AUD = 0.67 USD"
   ]
  },
  {
   "cell_type": "code",
   "execution_count": 98,
   "metadata": {},
   "outputs": [
    {
     "name": "stdout",
     "output_type": "stream",
     "text": [
      "     Клиент  Ставка нам Валюта  Ставка партнёру\n",
      "0  Клиент 1        5000    RUB               40\n",
      "1  Клиент 2         120    EUR               55\n",
      "2  Клиент 3          80    USD               40\n",
      "3  Клиент 4          65    AUD               60\n"
     ]
    }
   ],
   "source": [
    "import pandas as pd\n",
    "\n",
    "# Укажем путь к вашему Excel файлу\n",
    "file_path = 'Тест на джуна.xlsx'\n",
    "\n",
    "# Определим диапазон строк и столбцов, который вы хотите загрузить\n",
    "sheet_name = 'Задание 3'\n",
    "start_row = 3  # строки в pandas нумеруются с 0, поэтому строка 5 в Excel - это 4 в pandas\n",
    "nrows = 5  # количество строк, которые необходимо загрузить\n",
    "usecols = 'A:D'  # диапазон столбцов\n",
    "\n",
    "# Загрузим данные из указанного диапазона\n",
    "df_task_3 = pd.read_excel(file_path, sheet_name=sheet_name, skiprows=start_row, nrows=nrows, usecols=usecols)\n",
    "\n",
    "# Выведим DataFrame на экран\n",
    "print(df_task_3)\n"
   ]
  },
  {
   "cell_type": "markdown",
   "metadata": {},
   "source": [
    "**1. Преобразуем все ставки в доллары США для единообразия**"
   ]
  },
  {
   "cell_type": "code",
   "execution_count": 99,
   "metadata": {},
   "outputs": [
    {
     "name": "stdout",
     "output_type": "stream",
     "text": [
      "     Клиент  Ставка нам Валюта  Ставка партнёру  Ставка нам (USD)\n",
      "0  Клиент 1        5000    RUB               40             50.00\n",
      "1  Клиент 2         120    EUR               55            130.80\n",
      "2  Клиент 3          80    USD               40             80.00\n",
      "3  Клиент 4          65    AUD               60             43.55\n"
     ]
    }
   ],
   "source": [
    "import pandas as pd\n",
    "\n",
    "# Укажем путь к вашему Excel файлу\n",
    "file_path = 'Тест на джуна.xlsx'\n",
    "\n",
    "# Определим диапазон строк и столбцов, который мы хотите загрузить\n",
    "sheet_name = 'Задание 3'\n",
    "start_row = 3  \n",
    "nrows = 5  \n",
    "usecols = 'A:D'  \n",
    "\n",
    "# Загрузим данные из указанного диапазона\n",
    "df_task_3 = pd.read_excel(file_path, sheet_name=sheet_name, skiprows=start_row, nrows=nrows, usecols=usecols)\n",
    "\n",
    "# Преобразование ставок в доллары США\n",
    "exchange_rates = {\n",
    "    'RUB': 0.01,\n",
    "    'EUR': 1.09,\n",
    "    'USD': 1,\n",
    "    'AUD': 0.67\n",
    "}\n",
    "\n",
    "# Преобразование столбца \"Ставка нам\" в доллары США\n",
    "df_task_3['Ставка нам (USD)'] = df_task_3.apply(lambda row: row['Ставка нам'] * exchange_rates[row['Валюта']], axis=1)\n",
    "\n",
    "# Вывод DataFrame на экран для проверки\n",
    "print(df_task_3)"
   ]
  },
  {
   "cell_type": "markdown",
   "metadata": {},
   "source": [
    "**2. Рассчитаем ROI для каждого клиента**"
   ]
  },
  {
   "cell_type": "code",
   "execution_count": 100,
   "metadata": {},
   "outputs": [
    {
     "name": "stdout",
     "output_type": "stream",
     "text": [
      "     Клиент  Ставка нам Валюта  Ставка партнёру  Ставка нам (USD)  Профит  \\\n",
      "0  Клиент 1        5000    RUB               40             50.00   10.00   \n",
      "1  Клиент 2         120    EUR               55            130.80   75.80   \n",
      "2  Клиент 3          80    USD               40             80.00   40.00   \n",
      "3  Клиент 4          65    AUD               60             43.55  -16.45   \n",
      "\n",
      "          ROI  \n",
      "0   25.000000  \n",
      "1  137.818182  \n",
      "2  100.000000  \n",
      "3  -27.416667  \n"
     ]
    }
   ],
   "source": [
    "# Рассчет профита и ROI\n",
    "df_task_3['Профит'] = df_task_3['Ставка нам (USD)'] - df_task_3['Ставка партнёру']\n",
    "df_task_3['ROI'] = (df_task_3['Профит'] / df_task_3['Ставка партнёру']) * 100\n",
    "\n",
    "# Вывод DataFrame на экран для проверки\n",
    "print(df_task_3)"
   ]
  },
  {
   "cell_type": "markdown",
   "metadata": {},
   "source": [
    "**3. Найдем клиентов, у которых ROI ниже 100%, и предложим новую ставку партнёру, чтобы ROI был равен 200%**"
   ]
  },
  {
   "cell_type": "code",
   "execution_count": 101,
   "metadata": {},
   "outputs": [
    {
     "name": "stdout",
     "output_type": "stream",
     "text": [
      "     Клиент  Ставка нам Валюта  Ставка партнёру  Ставка нам (USD)  Профит  \\\n",
      "0  Клиент 1        5000    RUB               40             50.00   10.00   \n",
      "1  Клиент 2         120    EUR               55            130.80   75.80   \n",
      "2  Клиент 3          80    USD               40             80.00   40.00   \n",
      "3  Клиент 4          65    AUD               60             43.55  -16.45   \n",
      "\n",
      "          ROI  Новая ставка партнёру (если ROI < 100%)  new_Профит     new_ROI  \n",
      "0   25.000000                                16.666667   33.333333  200.000000  \n",
      "1  137.818182                                55.000000   75.800000  137.818182  \n",
      "2  100.000000                                40.000000   40.000000  100.000000  \n",
      "3  -27.416667                                14.516667   29.033333  200.000000  \n"
     ]
    }
   ],
   "source": [
    "# Рассчет новой ставки партнёру для достижения ROI 200%\n",
    "df_task_3['Новая ставка партнёру (если ROI < 100%)'] = df_task_3.apply(\n",
    "    lambda row: row['Ставка нам (USD)'] / 3 if row['ROI'] < 100 else row['Ставка партнёру'],\n",
    "    axis=1\n",
    ")\n",
    "df_task_3['new_Профит'] = df_task_3['Ставка нам (USD)'] - df_task_3['Новая ставка партнёру (если ROI < 100%)']\n",
    "df_task_3['new_ROI'] = (df_task_3['new_Профит'] / df_task_3['Новая ставка партнёру (если ROI < 100%)']) * 100\n",
    "# Вывод DataFrame на экран для проверки\n",
    "print(df_task_3)"
   ]
  },
  {
   "cell_type": "markdown",
   "metadata": {},
   "source": [
    "**Задание 4**"
   ]
  },
  {
   "cell_type": "code",
   "execution_count": 102,
   "metadata": {},
   "outputs": [
    {
     "name": "stdout",
     "output_type": "stream",
     "text": [
      "           Install Time          Event Time  Adset           City\n",
      "164 2022-04-06 00:41:18 2022-04-06 01:23:03      2        Aquiraz\n",
      "165 2022-04-05 21:30:48 2022-04-05 21:38:52      2   Santa Adelia\n",
      "166 2022-04-05 01:09:22 2022-04-05 01:24:41      1  Florianopolis\n",
      "167 2022-04-04 11:55:12 2022-04-04 11:59:14      1        Formosa\n",
      "168 2022-04-04 10:37:39 2022-04-04 10:45:47      1          Macae\n"
     ]
    }
   ],
   "source": [
    "import pandas as pd\n",
    "\n",
    "# Укажем путь к Excel файлу с данными\n",
    "file_path = 'Тест на джуна.xlsx'\n",
    "\n",
    "# Определим диапазон строк и столбцов, который необходимо загрузить\n",
    "sheet_name = 'Задание 4'\n",
    "start_row = 2\n",
    "nrows = 173\n",
    "usecols = 'A:D'\n",
    "\n",
    "# Загрузим данные из указанного диапазона\n",
    "df_task_4 = pd.read_excel(file_path, sheet_name=sheet_name, skiprows=start_row, nrows=nrows, usecols=usecols)\n",
    "\n",
    "print(df_task_4.tail())\n",
    "\n"
   ]
  },
  {
   "cell_type": "code",
   "execution_count": 103,
   "metadata": {},
   "outputs": [
    {
     "name": "stdout",
     "output_type": "stream",
     "text": [
      "Общая сумма, которую рекламодатель выплатит: 17300 y.e.\n"
     ]
    }
   ],
   "source": [
    "# Переименуем столбцы\n",
    "df_task_4.columns = ['install_time', 'event_time', 'adset', 'city']\n",
    "\n",
    "# Преобразуйем столбцы с датами в формат datetime\n",
    "df_task_4['install_time'] = pd.to_datetime(df_task_4['install_time'])\n",
    "df_task_4['event_time'] = pd.to_datetime(df_task_4['event_time'])\n",
    "\n",
    "# Рассчитаем разницу в днях между событием и установкой\n",
    "df_task_4['days_diff'] = (df_task_4['event_time'] - df_task_4['install_time']).dt.days\n",
    "\n",
    "# Отфильтруйем события, где разница больше 2 суток\n",
    "valid_events = df_task_4[df_task_4['days_diff'] <= 2].copy()\n",
    "\n",
    "# Определим ставку в зависимости от города\n",
    "valid_events['rate'] = valid_events['city'].apply(lambda x: 200 if x == 'Sao Paulo' else 100)\n",
    "\n",
    "# Рассчитайем общую сумму\n",
    "total_amount = valid_events['rate'].sum()\n",
    "print(f\"Общая сумма, которую рекламодатель выплатит: {total_amount} y.e.\")"
   ]
  },
  {
   "cell_type": "code",
   "execution_count": 104,
   "metadata": {},
   "outputs": [],
   "source": [
    "# Добавим столбец с часом события\n",
    "valid_events['event_hour'] = valid_events['event_time'].dt.hour\n",
    "\n",
    "# Подсчитаем количество событий по часам, городам и адсетам\n",
    "events_per_hour = valid_events['event_hour'].value_counts().sort_index()\n",
    "events_per_city = valid_events['city'].value_counts()\n",
    "events_per_adset = valid_events['adset'].value_counts()\n",
    "\n",
    "# Найдём оптимальные часовые промежутки, города и адсет\n",
    "optimal_hour = events_per_hour.idxmax()\n",
    "optimal_hour_count = events_per_hour.max()\n",
    "optimal_city = events_per_city.idxmax()\n",
    "optimal_city_count = events_per_city.max()\n",
    "optimal_adset = events_per_adset.idxmax()\n",
    "optimal_adset_count = events_per_adset.max()"
   ]
  },
  {
   "cell_type": "markdown",
   "metadata": {},
   "source": [
    "**Вывод:**"
   ]
  },
  {
   "cell_type": "code",
   "execution_count": 105,
   "metadata": {},
   "outputs": [
    {
     "name": "stdout",
     "output_type": "stream",
     "text": [
      "Оптимальный часовой промежуток показа рекламы: 2 (Количество событий: 23)\n",
      "Оптимальный город показа рекламы: Sao Paulo (Количество событий: 13)\n",
      "Оптимальный адсет: 17 (Количество событий: 85)\n",
      "\n",
      "Прогнозируемое количество событий за апрель: 436\n"
     ]
    }
   ],
   "source": [
    "# Вывод результатов по оптимальным критериям\n",
    "print(f\"Оптимальный часовой промежуток показа рекламы: {optimal_hour} (Количество событий: {optimal_hour_count})\")\n",
    "print(f\"Оптимальный город показа рекламы: {optimal_city} (Количество событий: {optimal_city_count})\")\n",
    "print(f\"Оптимальный адсет: {optimal_adset} (Количество событий: {optimal_adset_count})\")\n",
    "\n",
    "# Прогнозируем количество событий за весь апрель\n",
    "events_per_day = valid_events['event_time'].dt.date.value_counts().mean()\n",
    "total_events_april = events_per_day * 30  # апрель имеет 30 дней\n",
    "\n",
    "print(f\"\\nПрогнозируемое количество событий за апрель: {total_events_april:.0f}\")"
   ]
  }
 ],
 "metadata": {
  "kernelspec": {
   "display_name": "base",
   "language": "python",
   "name": "python3"
  },
  "language_info": {
   "codemirror_mode": {
    "name": "ipython",
    "version": 3
   },
   "file_extension": ".py",
   "mimetype": "text/x-python",
   "name": "python",
   "nbconvert_exporter": "python",
   "pygments_lexer": "ipython3",
   "version": "3.9.13"
  }
 },
 "nbformat": 4,
 "nbformat_minor": 2
}
